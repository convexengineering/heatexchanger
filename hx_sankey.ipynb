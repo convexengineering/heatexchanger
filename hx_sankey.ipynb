{
 "cells": [
  {
   "cell_type": "code",
   "execution_count": 1,
   "metadata": {},
   "outputs": [
    {
     "name": "stdout",
     "output_type": "stream",
     "text": [
      "Using solver 'mosek'\n",
      "Solving for 16 variables.\n",
      "Solving took 0.0165 seconds.\n"
     ]
    }
   ],
   "source": [
    "from hx import *\n",
    "state = HXState()\n",
    "m = HX(state)\n",
    "\n",
    "m.cost = m.channel.A_r*m.channelP.A_e*m.channel.l*m.channelP.fr\n",
    "sol = m.solve()"
   ]
  },
  {
   "cell_type": "code",
   "execution_count": 2,
   "metadata": {},
   "outputs": [
    {
     "name": "stderr",
     "output_type": "stream",
     "text": [
      "The installed widget Javascript is the wrong version.\n"
     ]
    }
   ],
   "source": [
    "import gpkit.interactive.sankey\n",
    "reload(gpkit.interactive.sankey)\n",
    "Sankey = gpkit.interactive.sankey.Sankey\n",
    "Sankey(m).diagram(right=100)"
   ]
  },
  {
   "cell_type": "code",
   "execution_count": 56,
   "metadata": {},
   "outputs": [
    {
     "name": "stdout",
     "output_type": "stream",
     "text": [
      "(objective) adds +1 to the overall sensitivity of A_r_HX/Channel\n",
      "(objective) is A_e_HX/ChannelP*A_r_HX/Channel*fr_HX/ChannelP*l_HX/Channel [N*m**3] \n",
      "\n",
      "(a) adds +0 to the overall sensitivity of A_r_HX/Channel\n",
      "(a) is A_r_HX/Channel = h_HX/Channel**2 \n",
      "\n",
      "(b) adds -1 to the overall sensitivity of A_r_HX/Channel\n",
      "(b) is mdot_HX/ChannelP = A_r_HX/Channel*V_in_HXState*rho_in_HXState \n",
      "\n",
      "(objective) adds +1 to the overall sensitivity of l_HX/Channel\n",
      "(objective) is A_e_HX/ChannelP*A_r_HX/Channel*fr_HX/ChannelP*l_HX/Channel [N*m**3] \n",
      "\n",
      "(c) adds -1 to the overall sensitivity of l_HX/Channel\n",
      "(c) is Re_HX/ChannelP = V_in_HXState**0.5*V_out_HXState**0.5*l_HX/Channel*mu_in_HXState**-0.5*mu_out_HXState**-0.5*rho_in_HXState**0.5*rho_out_HXState**0.5 \n",
      "\n",
      "(objective) adds +1 to the overall sensitivity of A_e_HX/ChannelP\n",
      "(objective) is A_e_HX/ChannelP*A_r_HX/Channel*fr_HX/ChannelP*l_HX/Channel [N*m**3] \n",
      "\n",
      "(d) adds -1 to the overall sensitivity of A_e_HX/ChannelP\n",
      "(d) is mdot_HX/ChannelP = A_e_HX/ChannelP*V_out_HXState*rho_out_HXState \n",
      "\n",
      "(objective) adds +1 to the overall sensitivity of fr_HX/ChannelP\n",
      "(objective) is A_e_HX/ChannelP*A_r_HX/Channel*fr_HX/ChannelP*l_HX/Channel [N*m**3] \n",
      "\n",
      "(e) adds -1 to the overall sensitivity of fr_HX/ChannelP\n",
      "(e) is fr_HX/ChannelP = 0.5*Pf_HX/ChannelP*V_in_HXState**2*rho_in_HXState \n",
      "\n"
     ]
    },
    {
     "name": "stderr",
     "output_type": "stream",
     "text": [
      "The installed widget Javascript is the wrong version.\n"
     ]
    }
   ],
   "source": [
    "Sankey(m).diagram(m.cost.varkeys)"
   ]
  },
  {
   "cell_type": "code",
   "execution_count": 55,
   "metadata": {},
   "outputs": [
    {
     "name": "stdout",
     "output_type": "stream",
     "text": [
      "(a) adds -1 to the overall sensitivity of rho_in_HXState\n",
      "(a) is mdot_HX/ChannelP = A_r_HX/Channel*V_in_HXState*rho_in_HXState \n",
      "\n",
      "(b) adds -0.5 to the overall sensitivity of rho_in_HXState\n",
      "(b) is Re_HX/ChannelP = V_in_HXState**0.5*V_out_HXState**0.5*l_HX/Channel*mu_in_HXState**-0.5*mu_out_HXState**-0.5*rho_in_HXState**0.5*rho_out_HXState**0.5 \n",
      "\n",
      "(c) adds +1 to the overall sensitivity of rho_in_HXState\n",
      "(c) is fr_HX/ChannelP = 0.5*Pf_HX/ChannelP*V_in_HXState**2*rho_in_HXState \n",
      "\n",
      "(d) adds +9.43e-10 to the overall sensitivity of rho_in_HXState\n",
      "(d) is P0_in_HXState >= 0.5*Pf_HX/ChannelP*V_in_HXState**2*rho_in_HXState + 0.5*V_out_HXState**2*rho_out_HXState + P_out_HXState \n",
      "\n",
      "(e) adds +0.5 to the overall sensitivity of rho_in_HXState\n",
      "(e) is P_in_HXState = R_HXState*T_in_HXState*rho_in_HXState \n",
      "\n"
     ]
    },
    {
     "name": "stderr",
     "output_type": "stream",
     "text": [
      "The installed widget Javascript is the wrong version.\n"
     ]
    }
   ],
   "source": [
    "Sankey(m).sorted_by(\"constraints\", 3, left=110)  # how to explain this to topoopt ppl?\n",
    "# h = 1/sqrt(x) for Blasius flow etc"
   ]
  },
  {
   "cell_type": "code",
   "execution_count": 13,
   "metadata": {},
   "outputs": [
    {
     "name": "stdout",
     "output_type": "stream",
     "text": [
      "(a) adds -1 to the overall sensitivity of rho_in_HXState\n",
      "(a) is mdot_HX/ChannelP = A_r_HX/Channel*V_in_HXState*rho_in_HXState \n",
      "\n",
      "(b) adds -0.5 to the overall sensitivity of rho_in_HXState\n",
      "(b) is Re_HX/ChannelP = V_in_HXState**0.5*V_out_HXState**0.5*l_HX/Channel*mu_in_HXState**-0.5*mu_out_HXState**-0.5*rho_in_HXState**0.5*rho_out_HXState**0.5 \n",
      "\n",
      "(c) adds +1 to the overall sensitivity of rho_in_HXState\n",
      "(c) is fr_HX/ChannelP = 0.5*Pf_HX/ChannelP*V_in_HXState**2*rho_in_HXState \n",
      "\n",
      "(d) adds +9.43e-10 to the overall sensitivity of rho_in_HXState\n",
      "(d) is P0_in_HXState >= 0.5*Pf_HX/ChannelP*V_in_HXState**2*rho_in_HXState + 0.5*V_out_HXState**2*rho_out_HXState + P_out_HXState \n",
      "\n",
      "(e) adds +0.5 to the overall sensitivity of rho_in_HXState\n",
      "(e) is P_in_HXState = R_HXState*T_in_HXState*rho_in_HXState \n",
      "\n"
     ]
    },
    {
     "name": "stderr",
     "output_type": "stream",
     "text": [
      "The installed widget Javascript is the wrong version.\n"
     ]
    }
   ],
   "source": [
    "Sankey(m).sorted_by(\"constraints\", 3, left=120)"
   ]
  }
 ],
 "metadata": {
  "kernelspec": {
   "display_name": "Python 2",
   "language": "python",
   "name": "python2"
  },
  "language_info": {
   "codemirror_mode": {
    "name": "ipython",
    "version": 2
   },
   "file_extension": ".py",
   "mimetype": "text/x-python",
   "name": "python",
   "nbconvert_exporter": "python",
   "pygments_lexer": "ipython2",
   "version": "2.7.12"
  },
  "widgets": {
   "state": {
    "060c1c673f7147c48d626f1628d0a8b4": {
     "views": [
      {
       "cell_index": 3
      }
     ]
    },
    "12a1cbe5bf05445caf56488c3e58f990": {
     "views": [
      {
       "cell_index": 4
      }
     ]
    },
    "1c4356b8f0724584be181b4a7a7cbeb9": {
     "views": [
      {
       "cell_index": 5
      }
     ]
    },
    "462947e1737e4766ae45be6c9835fa17": {
     "views": [
      {
       "cell_index": 1
      }
     ]
    },
    "f7a177c8e3ab49429a84db120975ecb2": {
     "views": [
      {
       "cell_index": 2
      }
     ]
    }
   },
   "version": "1.2.0"
  }
 },
 "nbformat": 4,
 "nbformat_minor": 2
}
